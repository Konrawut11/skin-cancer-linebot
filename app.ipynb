{
 "cells": [
  {
   "cell_type": "code",
   "execution_count": 2,
   "id": "299fff71-fe60-485e-83c9-1b9ce9fb3a33",
   "metadata": {},
   "outputs": [
    {
     "ename": "ImportError",
     "evalue": "cannot import name 'WebhookHandler' from 'linebot.v3.webhooks' (/opt/anaconda3/lib/python3.12/site-packages/linebot/v3/webhooks/__init__.py)",
     "output_type": "error",
     "traceback": [
      "\u001b[0;31m---------------------------------------------------------------------------\u001b[0m",
      "\u001b[0;31mImportError\u001b[0m                               Traceback (most recent call last)",
      "Cell \u001b[0;32mIn[2], line 3\u001b[0m\n\u001b[1;32m      1\u001b[0m \u001b[38;5;28;01mfrom\u001b[39;00m \u001b[38;5;21;01mflask\u001b[39;00m \u001b[38;5;28;01mimport\u001b[39;00m Flask, request, send_from_directory\n\u001b[1;32m      2\u001b[0m \u001b[38;5;28;01mfrom\u001b[39;00m \u001b[38;5;21;01mlinebot\u001b[39;00m\u001b[38;5;21;01m.\u001b[39;00m\u001b[38;5;21;01mv3\u001b[39;00m\u001b[38;5;21;01m.\u001b[39;00m\u001b[38;5;21;01mmessaging\u001b[39;00m \u001b[38;5;28;01mimport\u001b[39;00m Configuration, MessagingApi, ApiClient, ReplyMessageRequest, TextMessage, ImageMessage\n\u001b[0;32m----> 3\u001b[0m \u001b[38;5;28;01mfrom\u001b[39;00m \u001b[38;5;21;01mlinebot\u001b[39;00m\u001b[38;5;21;01m.\u001b[39;00m\u001b[38;5;21;01mv3\u001b[39;00m\u001b[38;5;21;01m.\u001b[39;00m\u001b[38;5;21;01mwebhooks\u001b[39;00m \u001b[38;5;28;01mimport\u001b[39;00m WebhookHandler\n\u001b[1;32m      4\u001b[0m \u001b[38;5;28;01mfrom\u001b[39;00m \u001b[38;5;21;01mlinebot\u001b[39;00m\u001b[38;5;21;01m.\u001b[39;00m\u001b[38;5;21;01mv3\u001b[39;00m\u001b[38;5;21;01m.\u001b[39;00m\u001b[38;5;21;01mwebhooks\u001b[39;00m\u001b[38;5;21;01m.\u001b[39;00m\u001b[38;5;21;01mmodels\u001b[39;00m \u001b[38;5;28;01mimport\u001b[39;00m MessageEvent, ImageMessageContent\n\u001b[1;32m      5\u001b[0m \u001b[38;5;28;01mfrom\u001b[39;00m \u001b[38;5;21;01mdetect_yolo\u001b[39;00m \u001b[38;5;28;01mimport\u001b[39;00m detect_image\n",
      "\u001b[0;31mImportError\u001b[0m: cannot import name 'WebhookHandler' from 'linebot.v3.webhooks' (/opt/anaconda3/lib/python3.12/site-packages/linebot/v3/webhooks/__init__.py)"
     ]
    }
   ],
   "source": [
    "from flask import Flask, request, send_from_directory\n",
    "from linebot.v3.messaging import Configuration, MessagingApi, ApiClient, ReplyMessageRequest, TextMessage, ImageMessage\n",
    "from linebot.v3.webhooks import WebhookHandler\n",
    "from linebot.v3.webhooks.models import MessageEvent, ImageMessageContent\n",
    "from detect_yolo import detect_image\n",
    "import config\n",
    "import os\n",
    "import requests\n",
    "\n",
    "app = Flask(__name__)\n",
    "configuration = Configuration(access_token=config.LINE_CHANNEL_ACCESS_TOKEN)\n",
    "handler = WebhookHandler(config.LINE_CHANNEL_SECRET)\n",
    "\n",
    "@app.route(\"/callback\", methods=['POST'])\n",
    "def callback():\n",
    "    signature = request.headers['X-Line-Signature']\n",
    "    body = request.get_data(as_text=True)\n",
    "    handler.handle(body, signature)\n",
    "    return 'OK'\n",
    "\n",
    "@handler.add(MessageEvent, message=ImageMessageContent)\n",
    "def handle_image(event):\n",
    "    message_id = event.message.id\n",
    "    image_content = download_image(message_id)\n",
    "    image_path = f'temp_{message_id}.jpg'\n",
    "    with open(image_path, 'wb') as f:\n",
    "        f.write(image_content)\n",
    "    result_path, result_data = detect_image(image_path)\n",
    "    os.remove(image_path)\n",
    "\n",
    "    with ApiClient(configuration) as api_client:\n",
    "        line_bot_api = MessagingApi(api_client)\n",
    "        line_bot_api.reply_message(\n",
    "            ReplyMessageRequest(\n",
    "                reply_token=event.reply_token,\n",
    "                messages=[\n",
    "                    TextMessage(text=\"ผลการวินิจฉัยเบื้องต้นจากภาพที่ส่งมา:\"),\n",
    "                    ImageMessage(original_content_url=full_url(result_path),\n",
    "                                 preview_image_url=full_url(result_path))\n",
    "                ]\n",
    "            )\n",
    "        )\n",
    "\n",
    "def full_url(local_path):\n",
    "    return request.host_url + local_path\n",
    "\n",
    "def download_image(message_id):\n",
    "    headers = {\"Authorization\": f\"Bearer {config.LINE_CHANNEL_ACCESS_TOKEN}\"}\n",
    "    url = f\"https://api-data.line.me/v2/bot/message/{message_id}/content\"\n",
    "    res = requests.get(url, headers=headers)\n",
    "    return res.content\n",
    "\n",
    "@app.route('/static/results/<filename>')\n",
    "def serve_result(filename):\n",
    "    return send_from_directory('static/results', filename)\n",
    "\n",
    "if __name__ == \"__main__\":\n",
    "    app.run(port=5000)"
   ]
  },
  {
   "cell_type": "code",
   "execution_count": null,
   "id": "98fbd7c5-f889-46c9-ab5e-1d124fd00252",
   "metadata": {},
   "outputs": [],
   "source": []
  }
 ],
 "metadata": {
  "kernelspec": {
   "display_name": "Python 3 (ipykernel)",
   "language": "python",
   "name": "python3"
  },
  "language_info": {
   "codemirror_mode": {
    "name": "ipython",
    "version": 3
   },
   "file_extension": ".py",
   "mimetype": "text/x-python",
   "name": "python",
   "nbconvert_exporter": "python",
   "pygments_lexer": "ipython3",
   "version": "3.12.7"
  }
 },
 "nbformat": 4,
 "nbformat_minor": 5
}
