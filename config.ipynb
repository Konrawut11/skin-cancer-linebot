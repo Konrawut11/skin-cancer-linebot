{
 "cells": [
  {
   "cell_type": "code",
   "execution_count": 5,
   "id": "21c2acf5-c82b-4a6c-92f6-6d4a5e256117",
   "metadata": {},
   "outputs": [],
   "source": [
    "LINE_CHANNEL_ACCESS_TOKEN = 'twViaoWkg+T8rPjh5ngDKzR40GjAFnQ3zcfCyfPP2TfRi/cqItvI9j9M2zdYTV4VHjXwl2OIn8NS+PtS/mR/iELmxvJfv29CygKJ4NzsyHjMyd9E1WPL9Am877y3hD8+vT811+nrcxithpfz2Q3OgQdB04t89/1O/w1cDnyilFU='\n",
    "LINE_CHANNEL_SECRET = 'ec6b40811e14d9155f0d28ffdd876ad9'\n",
    "YOLO_MODEL_PATH = '/Users/konrawut/Desktop/Python/skin-bot/best.pt'"
   ]
  }
 ],
 "metadata": {
  "kernelspec": {
   "display_name": "Python 3 (ipykernel)",
   "language": "python",
   "name": "python3"
  },
  "language_info": {
   "codemirror_mode": {
    "name": "ipython",
    "version": 3
   },
   "file_extension": ".py",
   "mimetype": "text/x-python",
   "name": "python",
   "nbconvert_exporter": "python",
   "pygments_lexer": "ipython3",
   "version": "3.12.7"
  }
 },
 "nbformat": 4,
 "nbformat_minor": 5
}
